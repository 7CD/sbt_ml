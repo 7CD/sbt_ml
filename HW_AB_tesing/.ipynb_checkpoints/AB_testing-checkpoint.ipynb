{
 "cells": [
  {
   "cell_type": "code",
   "execution_count": 1,
   "metadata": {},
   "outputs": [],
   "source": [
    "import numpy as np\n",
    "import scipy\n",
    "import matplotlib.pyplot as plt\n",
    "import scipy.stats\n",
    "import statsmodels\n",
    "import statsmodels.sandbox.stats.multicomp\n",
    "import pandas as pd\n",
    "import seaborn as sns\n",
    "from sklearn.utils import shuffle"
   ]
  },
  {
   "cell_type": "code",
   "execution_count": 9,
   "metadata": {},
   "outputs": [],
   "source": [
    "df = pd.read_csv('data/df_hw.csv', index_col='user_id')\n",
    "df = df.drop(['Unnamed: 0'], axis=1)"
   ]
  },
  {
   "cell_type": "code",
   "execution_count": 12,
   "metadata": {},
   "outputs": [
    {
     "data": {
      "text/plain": [
       "True"
      ]
     },
     "execution_count": 12,
     "metadata": {},
     "output_type": "execute_result"
    }
   ],
   "source": [
    "set(df[df.day < 10].index) == set(df[df.day >= 10].index)"
   ]
  },
  {
   "cell_type": "code",
   "execution_count": 13,
   "metadata": {
    "scrolled": true
   },
   "outputs": [
    {
     "data": {
      "text/html": [
       "<div>\n",
       "<style scoped>\n",
       "    .dataframe tbody tr th:only-of-type {\n",
       "        vertical-align: middle;\n",
       "    }\n",
       "\n",
       "    .dataframe tbody tr th {\n",
       "        vertical-align: top;\n",
       "    }\n",
       "\n",
       "    .dataframe thead th {\n",
       "        text-align: right;\n",
       "    }\n",
       "</style>\n",
       "<table border=\"1\" class=\"dataframe\">\n",
       "  <thead>\n",
       "    <tr style=\"text-align: right;\">\n",
       "      <th></th>\n",
       "      <th>metric</th>\n",
       "    </tr>\n",
       "    <tr>\n",
       "      <th>day</th>\n",
       "      <th></th>\n",
       "    </tr>\n",
       "  </thead>\n",
       "  <tbody>\n",
       "    <tr>\n",
       "      <td>0</td>\n",
       "      <td>1000</td>\n",
       "    </tr>\n",
       "    <tr>\n",
       "      <td>1</td>\n",
       "      <td>1000</td>\n",
       "    </tr>\n",
       "    <tr>\n",
       "      <td>2</td>\n",
       "      <td>1000</td>\n",
       "    </tr>\n",
       "    <tr>\n",
       "      <td>3</td>\n",
       "      <td>1000</td>\n",
       "    </tr>\n",
       "    <tr>\n",
       "      <td>4</td>\n",
       "      <td>1000</td>\n",
       "    </tr>\n",
       "    <tr>\n",
       "      <td>5</td>\n",
       "      <td>1000</td>\n",
       "    </tr>\n",
       "    <tr>\n",
       "      <td>6</td>\n",
       "      <td>1000</td>\n",
       "    </tr>\n",
       "    <tr>\n",
       "      <td>7</td>\n",
       "      <td>1000</td>\n",
       "    </tr>\n",
       "    <tr>\n",
       "      <td>8</td>\n",
       "      <td>1000</td>\n",
       "    </tr>\n",
       "    <tr>\n",
       "      <td>9</td>\n",
       "      <td>1000</td>\n",
       "    </tr>\n",
       "    <tr>\n",
       "      <td>10</td>\n",
       "      <td>1000</td>\n",
       "    </tr>\n",
       "    <tr>\n",
       "      <td>11</td>\n",
       "      <td>1000</td>\n",
       "    </tr>\n",
       "    <tr>\n",
       "      <td>12</td>\n",
       "      <td>1000</td>\n",
       "    </tr>\n",
       "    <tr>\n",
       "      <td>13</td>\n",
       "      <td>1000</td>\n",
       "    </tr>\n",
       "    <tr>\n",
       "      <td>14</td>\n",
       "      <td>1000</td>\n",
       "    </tr>\n",
       "    <tr>\n",
       "      <td>15</td>\n",
       "      <td>1000</td>\n",
       "    </tr>\n",
       "    <tr>\n",
       "      <td>16</td>\n",
       "      <td>1000</td>\n",
       "    </tr>\n",
       "    <tr>\n",
       "      <td>17</td>\n",
       "      <td>1000</td>\n",
       "    </tr>\n",
       "    <tr>\n",
       "      <td>18</td>\n",
       "      <td>1000</td>\n",
       "    </tr>\n",
       "    <tr>\n",
       "      <td>19</td>\n",
       "      <td>1000</td>\n",
       "    </tr>\n",
       "  </tbody>\n",
       "</table>\n",
       "</div>"
      ],
      "text/plain": [
       "     metric\n",
       "day        \n",
       "0      1000\n",
       "1      1000\n",
       "2      1000\n",
       "3      1000\n",
       "4      1000\n",
       "5      1000\n",
       "6      1000\n",
       "7      1000\n",
       "8      1000\n",
       "9      1000\n",
       "10     1000\n",
       "11     1000\n",
       "12     1000\n",
       "13     1000\n",
       "14     1000\n",
       "15     1000\n",
       "16     1000\n",
       "17     1000\n",
       "18     1000\n",
       "19     1000"
      ]
     },
     "execution_count": 13,
     "metadata": {},
     "output_type": "execute_result"
    }
   ],
   "source": [
    "df.groupby('day').count()"
   ]
  },
  {
   "cell_type": "markdown",
   "metadata": {},
   "source": [
    "Магазин у нас небольшой, и А/Б тест делаем, чтобы проверить стоит ли внедрять модель на долгий срок.\n",
    "А за короткое время проведения АБ теста модель не сможет привести к большим потерям, так что можем позволить применить модель для половины клиентов.\n",
    "\n",
    "Первые 10 дней наблюдений сделаем трейном -- будем на них подбирать разбияние, а на остальных 10 днях проведем А/А тест. "
   ]
  },
  {
   "cell_type": "code",
   "execution_count": 14,
   "metadata": {},
   "outputs": [],
   "source": [
    "df_train_all = df[df.day < 10]\n",
    "df_val_all = df[df.day >= 10]"
   ]
  },
  {
   "cell_type": "code",
   "execution_count": 16,
   "metadata": {},
   "outputs": [
    {
     "data": {
      "image/png": "[encoded data removed]",
      "text/plain": [
       "<Figure size 432x288 with 1 Axes>"
      ]
     },
     "metadata": {
      "needs_background": "light"
     },
     "output_type": "display_data"
    }
   ],
   "source": [
    "df_train_all.metric.hist(bins=100);"
   ]
  },
  {
   "cell_type": "code",
   "execution_count": 18,
   "metadata": {},
   "outputs": [
    {
     "data": {
      "image/png": "[encoded data removed]",
      "text/plain": [
       "<Figure size 432x288 with 1 Axes>"
      ]
     },
     "metadata": {
      "needs_background": "light"
     },
     "output_type": "display_data"
    }
   ],
   "source": [
    "fig = plt.figure()\n",
    "ax = fig.add_subplot(111)\n",
    "res=scipy.stats.probplot(df_train_all.metric, plot=ax);"
   ]
  },
  {
   "cell_type": "code",
   "execution_count": 19,
   "metadata": {},
   "outputs": [
    {
     "data": {
      "image/png": "[encoded data removed]",
      "text/plain": [
       "<Figure size 432x288 with 1 Axes>"
      ]
     },
     "metadata": {
      "needs_background": "light"
     },
     "output_type": "display_data"
    }
   ],
   "source": [
    "df_val_all.metric.hist(bins=100);"
   ]
  },
  {
   "cell_type": "code",
   "execution_count": 20,
   "metadata": {},
   "outputs": [
    {
     "data": {
      "image/png": "[encoded data removed]",
      "text/plain": [
       "<Figure size 432x288 with 1 Axes>"
      ]
     },
     "metadata": {
      "needs_background": "light"
     },
     "output_type": "display_data"
    }
   ],
   "source": [
    "fig = plt.figure()\n",
    "ax = fig.add_subplot(111)\n",
    "res=scipy.stats.probplot(df_val_all.metric, plot=ax);"
   ]
  },
  {
   "cell_type": "markdown",
   "metadata": {},
   "source": [
    "Выборки распределены не нормально -- будем применять непараметрические критерии."
   ]
  },
  {
   "cell_type": "code",
   "execution_count": 21,
   "metadata": {},
   "outputs": [],
   "source": [
    "user_ids = df.index.unique()\n",
    "\n",
    "def random_AB_users_split():\n",
    "    users_A = np.random.choice(user_ids, size=len(user_ids) // 2, replace=False)\n",
    "    users_B = np.setdiff1d(user_ids, users_A)\n",
    "    return users_A, users_B"
   ]
  },
  {
   "cell_type": "code",
   "execution_count": 22,
   "metadata": {},
   "outputs": [],
   "source": [
    "def plot_splitting(df_train_A, df_train_B, df_val_A, df_val_B):\n",
    "    plt.figure(figsize=(10,6))\n",
    "    train_A_per_day_avg = df_train_A.groupby('day').mean().metric\n",
    "    train_B_per_day_avg = df_train_B.groupby('day').mean().metric\n",
    "    val_A_per_day_avg = df_val_A.groupby('day').mean().metric\n",
    "    val_B_per_day_avg = df_val_B.groupby('day').mean().metric\n",
    "    plt.plot(train_A_per_day_avg.index, train_A_per_day_avg, label='train A')\n",
    "    plt.plot(train_B_per_day_avg.index, train_B_per_day_avg, label='train B')    \n",
    "    plt.plot(val_A_per_day_avg.index, val_A_per_day_avg, label='val A')    \n",
    "    plt.plot(val_B_per_day_avg.index, val_B_per_day_avg, label='val B')\n",
    "    plt.ylabel('Avg check')\n",
    "    plt.xlabel('day')\n",
    "    plt.legend()\n",
    "    plt.show()"
   ]
  },
  {
   "cell_type": "code",
   "execution_count": 23,
   "metadata": {},
   "outputs": [
    {
     "data": {
      "image/png": "[encoded data removed]",
      "text/plain": [
       "<Figure size 720x432 with 1 Axes>"
      ]
     },
     "metadata": {
      "needs_background": "light"
     },
     "output_type": "display_data"
    }
   ],
   "source": [
    "users_A, users_B = random_AB_users_split()\n",
    "\n",
    "plot_splitting(df_train_all.loc[users_A], df_train_all.loc[users_B], \n",
    "               df_val_all.loc[users_A], df_val_all.loc[users_B])"
   ]
  },
  {
   "cell_type": "markdown",
   "metadata": {},
   "source": [
    "Проверим корректность рандомного разбиения по клиентам и применения критерия Манна-Уитни."
   ]
  },
  {
   "cell_type": "code",
   "execution_count": 188,
   "metadata": {},
   "outputs": [],
   "source": [
    "iters = 5000\n",
    "\n",
    "p_values = []\n",
    "\n",
    "for i in range(iters):\n",
    "    users_A, users_B = random_AB_users_split()\n",
    "    val_A, val_B = df_val_all.loc[users_A].metric, df_val_all.loc[users_B].metric\n",
    "    p_ans = scipy.stats.mannwhitneyu(val_A, val_B, alternative='two-sided').pvalue\n",
    "    p_values.append(p_ans)"
   ]
  },
  {
   "cell_type": "code",
   "execution_count": 189,
   "metadata": {},
   "outputs": [
    {
     "data": {
      "image/png": "[encoded data removed]",
      "text/plain": [
       "<Figure size 432x288 with 1 Axes>"
      ]
     },
     "metadata": {
      "needs_background": "light"
     },
     "output_type": "display_data"
    }
   ],
   "source": [
    "plt.hist(p_values, bins=10);"
   ]
  },
  {
   "cell_type": "markdown",
   "metadata": {},
   "source": [
    "Ок, p-value распределен равномерно."
   ]
  },
  {
   "cell_type": "markdown",
   "metadata": {},
   "source": [
    "**А/А тест:**"
   ]
  },
  {
   "cell_type": "markdown",
   "metadata": {},
   "source": [
    "Клиентов разбиваем на две равные группы рандомно, и оставляем разбиение, при котором группы похожи: p-value согласно критериям Манна-Уитни и Колмогорова-Смирнова более 0.2, средние отличаются менее, чем на 1000.\n",
    "\n",
    "Метрика -- средний чек. Для детектирования различия средних значений метрики в группах используем на валидационых выборках критерий Манна-Уитни."
   ]
  },
  {
   "cell_type": "code",
   "execution_count": 248,
   "metadata": {},
   "outputs": [],
   "source": [
    "iters = 5000\n",
    "\n",
    "p_values = []\n",
    "similar_groups = []\n",
    "\n",
    "for i in range(iters):\n",
    "    users_A, users_B = random_AB_users_split()\n",
    "    train_A, train_B = df_train_all.loc[users_A].metric, df_train_all.loc[users_B].metric\n",
    "    \n",
    "    p_k2s = scipy.stats.ks_2samp(train_A, train_B).pvalue\n",
    "    p_mw = scipy.stats.mannwhitneyu(train_A, train_B, alternative='two-sided').pvalue\n",
    "    mean = abs(train_A.mean() - train_B.mean())\n",
    "    \n",
    "    if p_mw > 0.2 and p_k2s > 0.2 and mean < 1000:\n",
    "        similar_groups.append([users_A, users_B])\n",
    "        val_A, val_B = df_val_all.loc[users_A].metric, df_val_all.loc[users_B].metric\n",
    "        p_ans = scipy.stats.mannwhitneyu(val_A, val_B).pvalue\n",
    "        p_values.append(p_ans)"
   ]
  },
  {
   "cell_type": "code",
   "execution_count": 249,
   "metadata": {},
   "outputs": [
    {
     "data": {
      "text/plain": [
       "0.02835538752362949"
      ]
     },
     "execution_count": 249,
     "metadata": {},
     "output_type": "execute_result"
    }
   ],
   "source": [
    "# Корректность\n",
    "p_values = np.array(p_values)\n",
    "p_values[p_values < 0.05].shape[0] / len(similar_groups)"
   ]
  },
  {
   "cell_type": "markdown",
   "metadata": {},
   "source": [
    "Схема АБ теста корректна: на А/А тесте при уровне значимости 0.05 эффект детектируется не более чем в 5% случаев."
   ]
  },
  {
   "cell_type": "markdown",
   "metadata": {},
   "source": [
    "Найдем мощность критерия Манна-Уитни на выборках размером 5000 и с эффектом 2%:"
   ]
  },
  {
   "cell_type": "code",
   "execution_count": 242,
   "metadata": {},
   "outputs": [],
   "source": [
    "iters = 4000\n",
    "\n",
    "p_values = []\n",
    "similar_groups = []\n",
    "\n",
    "effect = 1.02\n",
    "\n",
    "for i in range(iters):\n",
    "    users_A, users_B = random_AB_users_split()\n",
    "    train_A, train_B = df_train_all.loc[users_A].metric, df_train_all.loc[users_B].metric\n",
    "    \n",
    "    p_k2s = scipy.stats.ks_2samp(train_A, train_B).pvalue\n",
    "    p_mw = scipy.stats.mannwhitneyu(train_A, train_B, alternative='two-sided').pvalue\n",
    "    mean = abs(train_A.mean() - train_B.mean())\n",
    "    \n",
    "    if p_mw > 0.2 and p_k2s > 0.2 and mean < 1000:\n",
    "        similar_groups.append([users_A, users_B])\n",
    "        val_A, val_B = df_val_all.loc[users_A].metric, df_val_all.loc[users_B].metric\n",
    "        \n",
    "        val_B = val_B * effect\n",
    "        \n",
    "        p_ans = scipy.stats.mannwhitneyu(val_A, val_B).pvalue\n",
    "        p_values.append(p_ans)"
   ]
  },
  {
   "cell_type": "code",
   "execution_count": 231,
   "metadata": {},
   "outputs": [
    {
     "data": {
      "text/plain": [
       "(7448.991888804862, 7612.518112391366)"
      ]
     },
     "execution_count": 231,
     "metadata": {},
     "output_type": "execute_result"
    }
   ],
   "source": [
    "val_A.mean(), val_B.mean()"
   ]
  },
  {
   "cell_type": "code",
   "execution_count": 243,
   "metadata": {},
   "outputs": [
    {
     "data": {
      "text/plain": [
       "0.994413407821229"
      ]
     },
     "execution_count": 243,
     "metadata": {},
     "output_type": "execute_result"
    }
   ],
   "source": [
    "p_values = np.array(p_values)\n",
    "power = p_values[p_values < 0.05].shape[0] / len(similar_groups)\n",
    "power"
   ]
  },
  {
   "cell_type": "markdown",
   "metadata": {},
   "source": [
    "Найдем мощность для тестов длительностью в разное число дней."
   ]
  },
  {
   "cell_type": "code",
   "execution_count": 28,
   "metadata": {},
   "outputs": [],
   "source": [
    "def random_AB_users_split(df):\n",
    "    user_ids = df.index.unique()\n",
    "    users_A = np.random.choice(user_ids, size=len(user_ids) // 2, replace=False)\n",
    "    users_B = np.setdiff1d(user_ids, users_A)\n",
    "    return users_A, users_B"
   ]
  },
  {
   "cell_type": "code",
   "execution_count": 29,
   "metadata": {},
   "outputs": [],
   "source": [
    "iters = 1000\n",
    "\n",
    "effect = 1.02\n",
    "\n",
    "powers = []\n",
    "\n",
    "\n",
    "for n_days in range(1, 11):\n",
    "    df_train_n_days = df_train_all[df_train_all['day'] < n_days]\n",
    "    df_val_n_days = df_val_all[df_val_all['day'] < 10 + n_days]\n",
    "\n",
    "    p_values = []\n",
    "    similar_groups = []\n",
    "\n",
    "    for i in range(iters):\n",
    "        users_A, users_B = random_AB_users_split(df_train_n_days)\n",
    "\n",
    "        train_A, train_B = df_train_n_days.loc[users_A].metric, df_train_n_days.loc[users_B].metric\n",
    "        p_k2s = scipy.stats.ks_2samp(train_A, train_B).pvalue\n",
    "        p_mw = scipy.stats.mannwhitneyu(train_A, train_B, alternative='two-sided').pvalue\n",
    "        mean = abs(train_A.mean() - train_B.mean())\n",
    "\n",
    "        if p_mw > 0.2 and p_k2s > 0.2 and mean < 1000:\n",
    "            similar_groups.append([users_A, users_B])\n",
    "            val_A, val_B = df_val_n_days.loc[users_A].metric, df_val_n_days.loc[users_B].metric\n",
    "            val_B = val_B * effect\n",
    "            p_ans = scipy.stats.mannwhitneyu(val_A, val_B).pvalue\n",
    "            p_values.append(p_ans)\n",
    "\n",
    "    p_values = np.array(p_values)\n",
    "    power = p_values[p_values < 0.05].shape[0] / len(similar_groups)\n",
    "    powers.append(power)"
   ]
  },
  {
   "cell_type": "code",
   "execution_count": 31,
   "metadata": {},
   "outputs": [
    {
     "data": {
      "text/html": [
       "<div>\n",
       "<style scoped>\n",
       "    .dataframe tbody tr th:only-of-type {\n",
       "        vertical-align: middle;\n",
       "    }\n",
       "\n",
       "    .dataframe tbody tr th {\n",
       "        vertical-align: top;\n",
       "    }\n",
       "\n",
       "    .dataframe thead th {\n",
       "        text-align: right;\n",
       "    }\n",
       "</style>\n",
       "<table border=\"1\" class=\"dataframe\">\n",
       "  <thead>\n",
       "    <tr style=\"text-align: right;\">\n",
       "      <th></th>\n",
       "      <th>Длительность теста (дней)</th>\n",
       "      <th>Мощность</th>\n",
       "    </tr>\n",
       "  </thead>\n",
       "  <tbody>\n",
       "    <tr>\n",
       "      <td>0</td>\n",
       "      <td>1</td>\n",
       "      <td>0.284404</td>\n",
       "    </tr>\n",
       "    <tr>\n",
       "      <td>1</td>\n",
       "      <td>2</td>\n",
       "      <td>0.487838</td>\n",
       "    </tr>\n",
       "    <tr>\n",
       "      <td>2</td>\n",
       "      <td>3</td>\n",
       "      <td>0.650587</td>\n",
       "    </tr>\n",
       "    <tr>\n",
       "      <td>3</td>\n",
       "      <td>4</td>\n",
       "      <td>0.774590</td>\n",
       "    </tr>\n",
       "    <tr>\n",
       "      <td>4</td>\n",
       "      <td>5</td>\n",
       "      <td>0.868742</td>\n",
       "    </tr>\n",
       "    <tr>\n",
       "      <td>5</td>\n",
       "      <td>6</td>\n",
       "      <td>0.921516</td>\n",
       "    </tr>\n",
       "    <tr>\n",
       "      <td>6</td>\n",
       "      <td>7</td>\n",
       "      <td>0.952448</td>\n",
       "    </tr>\n",
       "    <tr>\n",
       "      <td>7</td>\n",
       "      <td>8</td>\n",
       "      <td>0.982240</td>\n",
       "    </tr>\n",
       "    <tr>\n",
       "      <td>8</td>\n",
       "      <td>9</td>\n",
       "      <td>0.989086</td>\n",
       "    </tr>\n",
       "    <tr>\n",
       "      <td>9</td>\n",
       "      <td>10</td>\n",
       "      <td>0.994702</td>\n",
       "    </tr>\n",
       "  </tbody>\n",
       "</table>\n",
       "</div>"
      ],
      "text/plain": [
       "   Длительность теста (дней)  Мощность\n",
       "0                          1  0.284404\n",
       "1                          2  0.487838\n",
       "2                          3  0.650587\n",
       "3                          4  0.774590\n",
       "4                          5  0.868742\n",
       "5                          6  0.921516\n",
       "6                          7  0.952448\n",
       "7                          8  0.982240\n",
       "8                          9  0.989086\n",
       "9                         10  0.994702"
      ]
     },
     "execution_count": 31,
     "metadata": {},
     "output_type": "execute_result"
    }
   ],
   "source": [
    "pd.DataFrame({'Длительность теста (дней)': list(range(1, 11)), 'Мощность': powers})"
   ]
  },
  {
   "cell_type": "markdown",
   "metadata": {},
   "source": [
    "Ответ на вопрос \"Можно ли статистически значимо задетектить эффект в 2%? Если можно, то за какую длительность теста?\": да, можно; в тесте длительностью 7 дней при наличии эффекта в 2% его обнаружим с вероятностью 95%."
   ]
  },
  {
   "cell_type": "markdown",
   "metadata": {},
   "source": []
  },
  {
   "cell_type": "markdown",
   "metadata": {},
   "source": [
    "Попробуем повысить мощность критерия при помощи CUPED преобразования метрики."
   ]
  },
  {
   "cell_type": "code",
   "execution_count": 32,
   "metadata": {},
   "outputs": [],
   "source": [
    "def cuped(df_all_A_train_reg, df_all_B_train_reg, df_all_A_valid_reg, df_all_B_valid_reg):\n",
    "\n",
    "    df_all_A = df_all_A_train_reg.merge(df_all_A_valid_reg, on = ['user_id'])\n",
    "    df_all_B = df_all_B_train_reg.merge(df_all_B_valid_reg, on = ['user_id'])\n",
    "    df_all_A['group'] = 'A'\n",
    "    df_all_B['group'] = 'B'\n",
    "    \n",
    "    df_all_cuped = pd.concat([df_all_A, df_all_B], axis = 0)\n",
    "    df_all_cuped = shuffle(df_all_cuped)\n",
    "    \n",
    "    mean_cov = df_all_cuped['metric_x'].mean()\n",
    "    variance = df_all_cuped['metric_x'].var()\n",
    "    cov = df_all_cuped[['metric_x','metric_y']].cov().values[0,1]\n",
    "    theta = cov / variance\n",
    "    df_all_cuped['cuped'] = df_all_cuped.apply(lambda x: x['metric_y'] - (x['metric_x'] - mean_cov) * theta, axis = 1)\n",
    "    \n",
    "    df_all_A = df_all_cuped[df_all_cuped.group == 'A']\n",
    "    df_all_B = df_all_cuped[df_all_cuped.group == 'B']\n",
    "    return df_all_A, df_all_B"
   ]
  },
  {
   "cell_type": "code",
   "execution_count": 33,
   "metadata": {},
   "outputs": [],
   "source": [
    "iters = 1000\n",
    "\n",
    "effect = 1.02\n",
    "\n",
    "powers = []\n",
    "\n",
    "\n",
    "for n_days in range(1, 11):\n",
    "    df_train_n_days = df_train_all[df_train_all['day'] < n_days]\n",
    "    df_val_n_days = df_val_all[df_val_all['day'] < 10 + n_days]\n",
    "\n",
    "    p_values = []\n",
    "    similar_groups = []\n",
    "\n",
    "    for i in range(iters):\n",
    "        users_A, users_B = random_AB_users_split(df_train_n_days)\n",
    "\n",
    "        df_train_A, df_train_B = df_train_n_days.loc[users_A], df_train_n_days.loc[users_B]\n",
    "\n",
    "        p_k2s = scipy.stats.ks_2samp(df_train_A.metric, df_train_B.metric).pvalue\n",
    "        p_mw = scipy.stats.mannwhitneyu(df_train_A.metric, df_train_B.metric, alternative='two-sided').pvalue\n",
    "        mean = abs(df_train_A.metric.mean() - df_train_B.metric.mean())\n",
    "\n",
    "        if p_mw > 0.2 and p_k2s > 0.2 and mean < 1000:\n",
    "            similar_groups.append([users_A, users_B])\n",
    "            df_val_A, df_val_B = df_val_n_days.loc[users_A], df_val_n_days.loc[users_B]\n",
    "            df_val_B.metric = df_val_B.metric * effect\n",
    "\n",
    "            df_all_A, df_all_B = cuped(df_train_A, df_train_B, df_val_A, df_val_B)\n",
    "\n",
    "            p_ans = scipy.stats.mannwhitneyu(df_all_A['cuped'].tolist(), df_all_B['cuped'].tolist()).pvalue\n",
    "            p_values.append(p_ans)\n",
    "\n",
    "    p_values = np.array(p_values)\n",
    "    power = p_values[p_values < 0.05].shape[0] / len(similar_groups)\n",
    "    powers.append(power)"
   ]
  },
  {
   "cell_type": "code",
   "execution_count": 34,
   "metadata": {},
   "outputs": [
    {
     "data": {
      "text/html": [
       "<div>\n",
       "<style scoped>\n",
       "    .dataframe tbody tr th:only-of-type {\n",
       "        vertical-align: middle;\n",
       "    }\n",
       "\n",
       "    .dataframe tbody tr th {\n",
       "        vertical-align: top;\n",
       "    }\n",
       "\n",
       "    .dataframe thead th {\n",
       "        text-align: right;\n",
       "    }\n",
       "</style>\n",
       "<table border=\"1\" class=\"dataframe\">\n",
       "  <thead>\n",
       "    <tr style=\"text-align: right;\">\n",
       "      <th></th>\n",
       "      <th>Длительность теста (дней)</th>\n",
       "      <th>Мощность</th>\n",
       "    </tr>\n",
       "  </thead>\n",
       "  <tbody>\n",
       "    <tr>\n",
       "      <td>0</td>\n",
       "      <td>1</td>\n",
       "      <td>0.753701</td>\n",
       "    </tr>\n",
       "    <tr>\n",
       "      <td>1</td>\n",
       "      <td>2</td>\n",
       "      <td>0.927596</td>\n",
       "    </tr>\n",
       "    <tr>\n",
       "      <td>2</td>\n",
       "      <td>3</td>\n",
       "      <td>0.991903</td>\n",
       "    </tr>\n",
       "    <tr>\n",
       "      <td>3</td>\n",
       "      <td>4</td>\n",
       "      <td>1.000000</td>\n",
       "    </tr>\n",
       "    <tr>\n",
       "      <td>4</td>\n",
       "      <td>5</td>\n",
       "      <td>1.000000</td>\n",
       "    </tr>\n",
       "    <tr>\n",
       "      <td>5</td>\n",
       "      <td>6</td>\n",
       "      <td>1.000000</td>\n",
       "    </tr>\n",
       "    <tr>\n",
       "      <td>6</td>\n",
       "      <td>7</td>\n",
       "      <td>1.000000</td>\n",
       "    </tr>\n",
       "    <tr>\n",
       "      <td>7</td>\n",
       "      <td>8</td>\n",
       "      <td>1.000000</td>\n",
       "    </tr>\n",
       "    <tr>\n",
       "      <td>8</td>\n",
       "      <td>9</td>\n",
       "      <td>1.000000</td>\n",
       "    </tr>\n",
       "    <tr>\n",
       "      <td>9</td>\n",
       "      <td>10</td>\n",
       "      <td>1.000000</td>\n",
       "    </tr>\n",
       "  </tbody>\n",
       "</table>\n",
       "</div>"
      ],
      "text/plain": [
       "   Длительность теста (дней)  Мощность\n",
       "0                          1  0.753701\n",
       "1                          2  0.927596\n",
       "2                          3  0.991903\n",
       "3                          4  1.000000\n",
       "4                          5  1.000000\n",
       "5                          6  1.000000\n",
       "6                          7  1.000000\n",
       "7                          8  1.000000\n",
       "8                          9  1.000000\n",
       "9                         10  1.000000"
      ]
     },
     "execution_count": 34,
     "metadata": {},
     "output_type": "execute_result"
    }
   ],
   "source": [
    "pd.DataFrame({'Длительность теста (дней)': list(range(1, 11)), 'Мощность': powers})"
   ]
  },
  {
   "cell_type": "markdown",
   "metadata": {},
   "source": [
    "С CUPED для детектирования эффекта в 2% хватает 3-х дней"
   ]
  },
  {
   "cell_type": "code",
   "execution_count": null,
   "metadata": {},
   "outputs": [],
   "source": []
  },
  {
   "cell_type": "code",
   "execution_count": null,
   "metadata": {},
   "outputs": [],
   "source": []
  }
 ],
 "metadata": {
  "kernelspec": {
   "display_name": "Python 3",
   "language": "python",
   "name": "python3"
  },
  "language_info": {
   "codemirror_mode": {
    "name": "ipython",
    "version": 3
   },
   "file_extension": ".py",
   "mimetype": "text/x-python",
   "name": "python",
   "nbconvert_exporter": "python",
   "pygments_lexer": "ipython3",
   "version": "3.7.4"
  }
 },
 "nbformat": 4,
 "nbformat_minor": 2
}
